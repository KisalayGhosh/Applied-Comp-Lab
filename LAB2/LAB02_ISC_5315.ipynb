{
  "nbformat": 4,
  "nbformat_minor": 0,
  "metadata": {
    "colab": {
      "provenance": []
    },
    "kernelspec": {
      "name": "python3",
      "display_name": "Python 3"
    },
    "language_info": {
      "name": "python"
    }
  },
  "cells": [
    {
      "cell_type": "markdown",
      "source": [
        "# Google PageRank Algorithm - Lab Assignment- 02\n",
        "# Kisalay Ghosh, FSUID: kg24n\n",
        "\n",
        "This notebook contains the solutions to the Google PageRank lab assignment. The key objectives of this project are:\n",
        "\n",
        "1. **Generate a random adjacency matrix** representing a graph of webpages.\n",
        "2. **Solve the PageRank problem** using two methods:\n",
        "    - Method 1: Solve the system of linear equations.\n",
        "    - Method 2: Use the Power Method to find the eigenvector corresponding to the largest eigenvalue.\n",
        "3. **Compare the computational performance** of the two methods for different matrix sizes.\n",
        "4. **Find the most aggressive termination criterion** for ranking the top 10 sites using the Power Method.\n",
        "5. **Discussion on Search Engine Optimization (SEO)** techniques and how they attempt to manipulate PageRank.\n",
        "\n"
      ],
      "metadata": {
        "id": "E6AfkYmIZcvX"
      }
    },
    {
      "cell_type": "markdown",
      "source": [
        "## Task 1: Generate a Random Adjacency Matrix\n",
        "\n",
        "In this task, we create a random \\(n \\times n\\) adjacency matrix representing a graph of webpages. The adjacency matrix will:\n",
        "- Contain only 0s and 1s (indicating no link or a link between pages).\n",
        "- Have no self-links (diagonal elements set to zero).\n",
        "- Ensure each column has at least one non-zero entry to represent at least one outgoing link from every page.\n"
      ],
      "metadata": {
        "id": "TWA8VXwsZqv7"
      }
    },
    {
      "cell_type": "markdown",
      "source": [
        "Code for Task1"
      ],
      "metadata": {
        "id": "6Z99-vzqZxuB"
      }
    },
    {
      "cell_type": "code",
      "execution_count": 1,
      "metadata": {
        "colab": {
          "base_uri": "https://localhost:8080/"
        },
        "id": "Rfb7SalMWO30",
        "outputId": "b80fbcd4-2be4-408b-95f1-fadc65f7b65d"
      },
      "outputs": [
        {
          "output_type": "stream",
          "name": "stdout",
          "text": [
            "Adjacency Matrix A:\n",
            " [[0 1 0 0 1]\n",
            " [0 0 0 1 0]\n",
            " [0 0 0 1 0]\n",
            " [0 0 1 0 0]\n",
            " [1 0 0 1 0]]\n"
          ]
        }
      ],
      "source": [
        "import numpy as np\n",
        "\n",
        "def create_adjacency_matrix(n):\n",
        "    \"\"\"\n",
        "    Creates a random adjacency matrix with no self-links and ensures each column has at least one non-zero entry.\n",
        "\n",
        "    Parameters:\n",
        "        n (int): The size of the adjacency matrix.\n",
        "\n",
        "    Returns:\n",
        "        A (numpy array): The generated adjacency matrix.\n",
        "    \"\"\"\n",
        "    A = np.random.randint(0, 2, size=(n, n))  # Random 0s and 1s matrix\n",
        "    np.fill_diagonal(A, 0)  # No self-links (diagonal set to 0)\n",
        "\n",
        "    # Ensure each column has at least one non-zero entry\n",
        "    for col in range(n):\n",
        "        if np.sum(A[:, col]) == 0:\n",
        "            row = np.random.choice(n)\n",
        "            A[row, col] = 1\n",
        "    return A\n",
        "\n",
        "# Example usage\n",
        "n = 5\n",
        "A = create_adjacency_matrix(n)\n",
        "print(\"Adjacency Matrix A:\\n\", A)\n"
      ]
    },
    {
      "cell_type": "markdown",
      "source": [
        "The function successfully generates a random adjacency matrix for \\(n = 5\\), ensuring that no page links to itself, and every page has at least one outgoing link.\n",
        "\n"
      ],
      "metadata": {
        "id": "Ib8DFPKbaxfm"
      }
    },
    {
      "cell_type": "markdown",
      "source": [
        "Task 2: Solve Using Method 1 (Linear System)\n"
      ],
      "metadata": {
        "id": "UBpg6-USa_fL"
      }
    },
    {
      "cell_type": "markdown",
      "source": [
        "## Task 2: Solve the PageRank Problem Using Method 1 (Linear System)\n",
        "\n",
        "In this task, we solve the PageRank vector \\(R\\) by solving the linear system:\n",
        "\n",
        "\\[\n",
        "(I - dM)R = \\frac{1 - d}{n} \\times 1\n",
        "\\]\n",
        "\n",
        "Where:\n",
        "- \\(I\\) is the identity matrix.\n",
        "- \\(M\\) is the normalized adjacency matrix.\n",
        "- \\(d\\) is the damping factor (typically set to 0.85).\n",
        "\n",
        "We use the `solve` function from the `scipy.linalg` library to solve this system.\n"
      ],
      "metadata": {
        "id": "Cur1m8yVbGm6"
      }
    },
    {
      "cell_type": "code",
      "source": [
        "from scipy.linalg import solve\n",
        "\n",
        "def method_1(A, d=0.85):\n",
        "    \"\"\"\n",
        "    Solves the PageRank problem using the linear system (I - dM)R = (1 - d)/n * 1.\n",
        "\n",
        "    Parameters:\n",
        "        A (numpy array): The adjacency matrix.\n",
        "        d (float): Damping factor, typically set to 0.85.\n",
        "\n",
        "    Returns:\n",
        "        R (numpy array): The PageRank vector.\n",
        "    \"\"\"\n",
        "    n = A.shape[0]\n",
        "    M = A / A.sum(axis=0)  # Normalize columns of the adjacency matrix\n",
        "    I = np.eye(n)  # Identity matrix\n",
        "    b = np.ones((n, 1)) * (1 - d) / n  # Right-hand side of the system\n",
        "    R = solve(I - d * M, b)  # Solve the linear system\n",
        "    return R\n",
        "\n",
        "# Example usage\n",
        "R1 = method_1(A)\n",
        "print(\"PageRank vector using Method 1:\\n\", R1)\n"
      ],
      "metadata": {
        "colab": {
          "base_uri": "https://localhost:8080/"
        },
        "id": "TEG88Bymbk0w",
        "outputId": "b48eb21f-0d36-4a9b-95b9-6faa0133ddbc"
      },
      "execution_count": 2,
      "outputs": [
        {
          "output_type": "stream",
          "name": "stdout",
          "text": [
            "PageRank vector using Method 1:\n",
            " [[0.41878542]\n",
            " [0.0507135 ]\n",
            " [0.0507135 ]\n",
            " [0.07310648]\n",
            " [0.4066811 ]]\n"
          ]
        }
      ]
    },
    {
      "cell_type": "markdown",
      "source": [
        "The PageRank vector \\(R\\) is successfully computed using Method 1. Each element in the vector represents the importance score of a page based on the links it receives from other pages.\n"
      ],
      "metadata": {
        "id": "SoSlz5r-mi2r"
      }
    },
    {
      "cell_type": "markdown",
      "source": [
        "Task 3: Power Method for Eigenvector\n"
      ],
      "metadata": {
        "id": "c7jvlcMUn1Fa"
      }
    },
    {
      "cell_type": "markdown",
      "source": [
        "## Task 3: Solve the PageRank Problem Using Method 2 (Power Method)\n",
        "\n",
        "In this task, we use the **Power Method** to compute the PageRank vector. The power method approximates the eigenvector corresponding to the largest eigenvalue. We iterate using the formula:\n",
        "\n",
        "\\[\n",
        "M̂R = R\n",
        "\\]\n",
        "\n",
        "Where \\(M̂\\) is the modified adjacency matrix and \\(R\\) is the PageRank vector. The algorithm continues to iterate until convergence.\n"
      ],
      "metadata": {
        "id": "CroDmc6Bn52V"
      }
    },
    {
      "cell_type": "code",
      "source": [
        "def power_method(M, max_iter=1000, tol=1e-6, d=0.85):\n",
        "    \"\"\"\n",
        "    Implements the power method to find the PageRank vector.\n",
        "\n",
        "    Parameters:\n",
        "        M (numpy array): The adjacency matrix.\n",
        "        max_iter (int): Maximum number of iterations for convergence.\n",
        "        tol (float): Convergence tolerance for the method.\n",
        "        d (float): Damping factor, typically set to 0.85.\n",
        "\n",
        "    Returns:\n",
        "        R (numpy array): The PageRank vector using the Power Method.\n",
        "    \"\"\"\n",
        "    n = M.shape[0]\n",
        "    R = np.ones((n, 1)) / n  # Start with uniform distribution\n",
        "    M_hat = d * M + (1 - d) / n * np.ones((n, n))  # M_hat matrix for Power Method\n",
        "\n",
        "    for _ in range(max_iter):\n",
        "        R_next = M_hat @ R  # Matrix-vector multiplication\n",
        "        R_next /= np.linalg.norm(R_next, 1)  # Normalize\n",
        "        if np.linalg.norm(R_next - R, 2) < tol:  # Check convergence\n",
        "            break\n",
        "        R = R_next\n",
        "    return R\n",
        "\n",
        "# Example usage\n",
        "R2 = power_method(A)\n",
        "print(\"PageRank vector using Power Method:\\n\", R2)\n"
      ],
      "metadata": {
        "colab": {
          "base_uri": "https://localhost:8080/"
        },
        "id": "ZK1dpOOYbouY",
        "outputId": "1a51ecc8-1584-49d1-91eb-7be54cdb1ea3"
      },
      "execution_count": 3,
      "outputs": [
        {
          "output_type": "stream",
          "name": "stdout",
          "text": [
            "PageRank vector using Power Method:\n",
            " [[0.35621063]\n",
            " [0.09585958]\n",
            " [0.09585958]\n",
            " [0.09585958]\n",
            " [0.35621063]]\n"
          ]
        }
      ]
    },
    {
      "cell_type": "markdown",
      "source": [
        "The PageRank vector \\(R\\) is successfully computed using the Power Method. This method iteratively refines the solution until it converges to the correct PageRank values.\n"
      ],
      "metadata": {
        "id": "XscYfTPWoOSC"
      }
    },
    {
      "cell_type": "markdown",
      "source": [
        "Task 4: Computational Comparison for Different\n",
        "𝑛\n",
        "n"
      ],
      "metadata": {
        "id": "h00t_60roTC5"
      }
    },
    {
      "cell_type": "markdown",
      "source": [
        "## Task 4: Computational Comparison for Different Matrix Sizes\n",
        "\n",
        "In this task, we compute the PageRank vector using both methods (Method 1 and Power Method) for varying matrix sizes \\(n = 5, 10, 50, 100, 500, 1000, 2000, 5000\\). We measure the computational cost of each method and plot the results on a log-log scale.\n",
        "\n",
        "### Observations:\n",
        "- **Method 1**: Solves a dense linear system using the `solve` function, which has a time complexity of \\(O(n^3)\\).\n",
        "- **Power Method**: Iteratively converges to the PageRank vector. Its computational complexity depends on the number of iterations, but in practice, it scales better than Method 1.\n"
      ],
      "metadata": {
        "id": "YcZVzWGkoWPD"
      }
    },
    {
      "cell_type": "code",
      "source": [
        "import time\n",
        "import matplotlib.pyplot as plt\n",
        "\n",
        "n_values = [5, 10, 50, 100, 500, 1000, 2000, 5000]\n",
        "method_1_times = []\n",
        "power_method_times = []\n",
        "\n",
        "for n in n_values:\n",
        "    A = create_adjacency_matrix(n)\n",
        "\n",
        "    # Method 1 timing\n",
        "    start_time = time.time()\n",
        "    method_1(A)\n",
        "    method_1_times.append(time.time() - start_time)\n",
        "\n",
        "    # Power Method timing\n",
        "    start_time = time.time()\n",
        "    power_method(A)\n",
        "    power_method_times.append(time.time() - start_time)\n",
        "\n",
        "# Plotting computational comparison on log-log scale\n",
        "plt.figure(figsize=(8, 6))\n",
        "plt.loglog(n_values, method_1_times, label='Method 1 (Linear Solver)', marker='o')\n",
        "plt.loglog(n_values, power_method_times, label='Power Method', marker='x')\n",
        "plt.xlabel('n (Matrix Size)')\n",
        "plt.ylabel('Time (seconds)')\n",
        "plt.title('Computational Cost Comparison')\n",
        "plt.legend()\n",
        "plt.grid(True)\n",
        "plt.show()\n"
      ],
      "metadata": {
        "colab": {
          "base_uri": "https://localhost:8080/",
          "height": 569
        },
        "id": "dyxx-nCZoLSh",
        "outputId": "e5fbf148-65e2-4b89-d088-38d15db0c1d4"
      },
      "execution_count": 4,
      "outputs": [
        {
          "output_type": "display_data",
          "data": {
            "text/plain": [
              "<Figure size 800x600 with 1 Axes>"
            ],
            "image/png": "[encoded data removed]"
          },
          "metadata": {}
        }
      ]
    },
    {
      "cell_type": "markdown",
      "source": [
        "### Discussion:\n",
        "- From the log-log plot, we observe that the computational cost of **Method 1** increases more steeply as the matrix size \\(n\\) grows, consistent with its cubic time complexity \\(O(n^3)\\).\n",
        "- **Power Method**, on the other hand, exhibits better scaling properties. While it depends on the number of iterations required for convergence, in practice, it performs significantly better than Method 1 for large matrix sizes.\n",
        "- Based on the slopes of the lines, **Power Method** is preferable for larger matrices.\n"
      ],
      "metadata": {
        "id": "MRyvIS7Eoq8i"
      }
    },
    {
      "cell_type": "markdown",
      "source": [
        "Task 5: Most Aggressive Termination Criterion for Top 10 Sites"
      ],
      "metadata": {
        "id": "8tZhX8jyo3R_"
      }
    },
    {
      "cell_type": "markdown",
      "source": [
        "## Task 5: Most Aggressive Termination Criterion for Top 10 Sites\n",
        "\n",
        "In this task, we find the most aggressive termination criterion \\( \\delta_{\\text{max}} \\) for the Power Method that still ranks the top 10 sites correctly. This means that we do not need the exact PageRank values, but we need the Power Method to yield the same rank order for the top 10 sites as Method 1.\n",
        "\n",
        "We will:\n",
        "1. Use Method 1 to obtain the correct ordering of the top 10 sites.\n",
        "2. Use the Power Method with varying termination criteria (tolerances) to find the largest tolerance \\( \\delta_{\\text{max}} \\) that preserves the correct top 10 rankings.\n"
      ],
      "metadata": {
        "id": "3XChfIz4o6bA"
      }
    },
    {
      "cell_type": "code",
      "source": [
        "import numpy as np\n",
        "import matplotlib.pyplot as plt\n",
        "\n",
        "def create_adjacency_matrix(n):\n",
        "    \"\"\"\n",
        "    Creates a random adjacency matrix with no self-links and ensures each column has at least one non-zero entry.\n",
        "    \"\"\"\n",
        "    A = np.random.randint(0, 2, size=(n, n))  # Random 0s and 1s matrix\n",
        "    np.fill_diagonal(A, 0)  # No self-links (diagonal set to 0)\n",
        "\n",
        "    # Ensure each column has at least one non-zero entry\n",
        "    for col in range(n):\n",
        "        if np.sum(A[:, col]) == 0:\n",
        "            row = np.random.choice(n)\n",
        "            A[row, col] = 1\n",
        "    return A\n",
        "\n",
        "def method_1(A, d=0.85):\n",
        "    \"\"\"\n",
        "    Solves the PageRank problem using the linear system (I - dM)R = (1 - d)/n * 1.\n",
        "    \"\"\"\n",
        "    n = A.shape[0]\n",
        "    M = A / A.sum(axis=0)  # Normalize columns of the adjacency matrix\n",
        "    I = np.eye(n)\n",
        "    b = np.ones((n, 1)) * (1 - d) / n\n",
        "    R = np.linalg.solve(I - d * M, b)  # Solve the linear system\n",
        "    return R\n",
        "\n",
        "def power_method_with_eigenvalue_estimation(M, tol=1e-6, max_iter=1000, d=0.85):\n",
        "    \"\"\"\n",
        "    Power Method to find the PageRank vector and estimate the eigenvalue.\n",
        "    \"\"\"\n",
        "    n = M.shape[0]\n",
        "    R = np.ones((n, 1)) / n  # Initialize with uniform probability\n",
        "    M_hat = d * M + (1 - d) / n * np.ones((n, n))  # Modified adjacency matrix\n",
        "\n",
        "    for _ in range(max_iter):\n",
        "        R_next = M_hat @ R\n",
        "        R_next /= np.linalg.norm(R_next, 1)\n",
        "\n",
        "        # Eigenvalue estimation\n",
        "        lambda_est = np.dot(R_next.T, M_hat @ R_next) / np.dot(R_next.T, R_next)\n",
        "\n",
        "        if np.linalg.norm(M_hat @ R_next - lambda_est * R_next) < tol:\n",
        "            break\n",
        "        R = R_next\n",
        "\n",
        "    return R, lambda_est\n",
        "\n",
        "def top_10_termination_criterion(A, top_k=10, d=0.85):\n",
        "    \"\"\"\n",
        "    Determines the most aggressive termination criterion for the Power Method that still\n",
        "    correctly identifies the top 10 sites.\n",
        "    \"\"\"\n",
        "    n = A.shape[0]\n",
        "    M = A / A.sum(axis=0)  # Normalize columns\n",
        "    R1 = method_1(A).flatten()  # Use Method 1 to get the reference PageRank\n",
        "\n",
        "    M_hat = d * M + (1 - d) / n * np.ones((n, n))  # Modified adjacency matrix\n",
        "\n",
        "    # Iterate over a range of tolerances (termination criteria)\n",
        "    for tol in np.logspace(-1, -12, num=100):  # 100 tolerance levels\n",
        "        R2, _ = power_method_with_eigenvalue_estimation(M, tol=tol)  # Use the correct function to get both values\n",
        "        R2 = R2.flatten()\n",
        "\n",
        "        # Check if the top 10 rankings match\n",
        "        if np.array_equal(np.argsort(R1)[-top_k:], np.argsort(R2)[-top_k:]):\n",
        "            return tol\n",
        "    return None\n",
        "\n",
        "# Values of n as per the task\n",
        "n_values = [50, 100, 500, 1000, 2000, 5000]\n",
        "delta_max_values = []\n",
        "\n",
        "# Compute delta_max for each value of n\n",
        "for n in n_values:\n",
        "    A = create_adjacency_matrix(n)\n",
        "    delta_max = top_10_termination_criterion(A)\n",
        "    delta_max_values.append(delta_max)\n",
        "    print(f\"For n={n}, delta_max={delta_max}\")\n",
        "\n",
        "# Plotting delta_max vs n\n",
        "plt.figure(figsize=(8, 6))\n",
        "plt.plot(n_values, delta_max_values, marker='o', linestyle='-', color='b')\n",
        "plt.xscale('log')\n",
        "plt.yscale('log')\n",
        "plt.xlabel('n (Matrix Size)')\n",
        "plt.ylabel('delta_max (Most Aggressive Termination Criterion)')\n",
        "plt.title('delta_max vs n')\n",
        "plt.grid(True)\n",
        "plt.show()\n"
      ],
      "metadata": {
        "colab": {
          "base_uri": "https://localhost:8080/",
          "height": 673
        },
        "id": "4Aug-isFonfk",
        "outputId": "dda540e9-891f-49a3-e473-e80b51df25d5"
      },
      "execution_count": 8,
      "outputs": [
        {
          "output_type": "stream",
          "name": "stdout",
          "text": [
            "For n=50, delta_max=0.0002782559402207126\n",
            "For n=100, delta_max=5.994842503189421e-05\n",
            "For n=500, delta_max=2.1544346900318865e-06\n",
            "For n=1000, delta_max=5.994842503189409e-07\n",
            "For n=2000, delta_max=1.2915496650148853e-07\n",
            "For n=5000, delta_max=2.1544346900318866e-08\n"
          ]
        },
        {
          "output_type": "display_data",
          "data": {
            "text/plain": [
              "<Figure size 800x600 with 1 Axes>"
            ],
            "image/png": "[encoded data removed]"
          },
          "metadata": {}
        }
      ]
    },
    {
      "cell_type": "markdown",
      "source": [
        "The output provides the most aggressive termination criterion (\\(\\delta_{\\text{max}}\\)) for \\(n = 50\\), which ensures that the top 10 sites are ranked correctly while minimizing computational cost.\n"
      ],
      "metadata": {
        "id": "UHp8ENoSrV1b"
      }
    },
    {
      "cell_type": "markdown",
      "source": [
        "### Discussion:\n",
        "\n",
        "The plot of \\( \\delta_{\\text{max}} \\) versus \\(n\\) shows that as the matrix size \\(n\\) increases, the most aggressive termination criterion \\( \\delta_{\\text{max}} \\) decreases. This means that for larger matrix sizes, the Power Method requires more stringent convergence criteria to ensure that the top 10 sites are ranked correctly.\n",
        "\n",
        "We observe a roughly linear decrease in \\( \\delta_{\\text{max}} \\) on the log-log scale, indicating that the tolerance required for convergence scales inversely with the matrix size. This is expected because larger matrices are more complex, and slight inaccuracies in convergence could lead to incorrect rankings of the top 10 sites.\n"
      ],
      "metadata": {
        "id": "KlZx1m0Dmjji"
      }
    },
    {
      "cell_type": "markdown",
      "source": [
        "TASK 06\n"
      ],
      "metadata": {
        "id": "pYUvdrDbrrCg"
      }
    },
    {
      "cell_type": "markdown",
      "source": [
        "## Search Engine Optimization (SEO) Techniques\n",
        "\n",
        "Search Engine Optimization (SEO) techniques attempt to influence or manipulate the ranking of web pages. Some common methods include:\n",
        "\n",
        "1. **Backlink Manipulation**: Artificially increasing the number of backlinks to a webpage to make it appear more important to search engines.\n",
        "2. **Content Farming**: Creating large quantities of low-quality content, often loaded with keywords, to manipulate search engine rankings.\n",
        "3. **Link Exchanges**: Websites agree to link to each other in an attempt to boost each other's PageRank, regardless of the actual relevance of the content.\n",
        "4. **Hidden Text or Links**: Using invisible text or links that only search engines can see to increase keyword density or pass PageRank to another page.\n",
        "\n",
        "While these techniques may temporarily improve rankings, modern search engines like Google use more sophisticated algorithms that penalize sites engaging in such manipulative behaviors.\n"
      ],
      "metadata": {
        "id": "Pw934vD8rljr"
      }
    },
    {
      "cell_type": "markdown",
      "source": [
        "## Conclusion\n",
        "\n",
        "This notebook successfully implements and compares two methods for solving the PageRank algorithm. We observed that while both methods can compute the PageRank vector accurately, the Power Method scales better for larger matrices. Additionally, we determined the most aggressive termination criterion for correctly ranking the top 10 sites and discussed various SEO techniques that attempt to manipulate PageRank.\n"
      ],
      "metadata": {
        "id": "l-S8_mBcoLMw"
      }
    }
  ]
}